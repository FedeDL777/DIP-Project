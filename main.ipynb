{
 "cells": [
  {
   "cell_type": "code",
   "execution_count": null,
   "id": "957b0577-58aa-4870-93cc-f2bf6cb494c1",
   "metadata": {},
   "outputs": [],
   "source": [
    "import os\n",
    "from urllib.request import urlretrieve\n",
    "from zipfile import ZipFile\n",
    "\n",
    "# constants\n",
    "URL = \"https://www.kaggle.com/api/v1/datasets/download/datasnaek/league-of-legends\"\n",
    "DATA_DIR = \"data/\"\n",
    "ZIP_NAME = \"compressed.zip\"\n",
    "\n",
    "if not os.path.exists(DATA_DIR):\n",
    "    os.makedirs(DATA_DIR)\n",
    "\n",
    "os.chdir(os.path.join(os.getcwd(), DATA_DIR))\n",
    "\n",
    "if not os.path.exists(ZIP_NAME):\n",
    "    # scarica il file dall'URL indicato\n",
    "    urlretrieve(URL, ZIP_NAME)\n",
    "    # apri il file zip ed estrai tutto il contenuto nella directory corrente\n",
    "    with ZipFile(ZIP_NAME) as f:\n",
    "        f.extractall()"
   ]
  },
  {
   "cell_type": "code",
   "execution_count": 3,
   "id": "9edcf8a1-ff39-4b57-b66e-11eb4b1d2688",
   "metadata": {
    "scrolled": true
   },
   "outputs": [],
   "source": [
    "import pandas as pd\n",
    "\n",
    "JSON_FILENAMES = (\"champion_info_2.json\", \"summoner_spell_info.json\")\n",
    "champion_info, summoner_spells = (pd.read_json(filename) for filename in JSON_FILENAMES)"
   ]
  },
  {
   "cell_type": "code",
   "execution_count": 5,
   "id": "f1c1f4a7-9ca6-4cf0-87b4-5a8a55f5e55e",
   "metadata": {},
   "outputs": [
    {
     "ename": "NameError",
     "evalue": "name 'champion_info' is not defined",
     "output_type": "error",
     "traceback": [
      "\u001b[31m---------------------------------------------------------------------------\u001b[39m",
      "\u001b[31mNameError\u001b[39m                                 Traceback (most recent call last)",
      "\u001b[36mCell\u001b[39m\u001b[36m \u001b[39m\u001b[32mIn[5]\u001b[39m\u001b[32m, line 1\u001b[39m\n\u001b[32m----> \u001b[39m\u001b[32m1\u001b[39m \u001b[43mchampion_info\u001b[49m\n",
      "\u001b[31mNameError\u001b[39m: name 'champion_info' is not defined"
     ]
    }
   ],
   "source": [
    "champion_info"
   ]
  },
  {
   "cell_type": "code",
   "execution_count": null,
   "id": "6ebd4388-6df6-432e-8724-7184216e5a8d",
   "metadata": {},
   "outputs": [],
   "source": [
    "summoner_spells"
   ]
  }
 ],
 "metadata": {
  "kernelspec": {
   "display_name": ".venv",
   "language": "python",
   "name": "python3"
  },
  "language_info": {
   "codemirror_mode": {
    "name": "ipython",
    "version": 3
   },
   "file_extension": ".py",
   "mimetype": "text/x-python",
   "name": "python",
   "nbconvert_exporter": "python",
   "pygments_lexer": "ipython3",
   "version": "3.13.5"
  }
 },
 "nbformat": 4,
 "nbformat_minor": 5
}
